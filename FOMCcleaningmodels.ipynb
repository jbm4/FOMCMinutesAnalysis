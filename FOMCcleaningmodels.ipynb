{
 "cells": [
  {
   "cell_type": "markdown",
   "metadata": {},
   "source": [
    "My goal is to predict changes in the federal funds rate using minutes from the federal open market committee"
   ]
  },
  {
   "cell_type": "code",
   "execution_count": 2,
   "metadata": {
    "scrolled": true
   },
   "outputs": [],
   "source": [
    "from bs4 import BeautifulSoup\n",
    "import pandas as pd\n",
    "import numpy as np\n",
    "import requests\n",
    "import time\n",
    "import PyPDF2\n",
    "import io\n",
    "import re\n",
    "import urllib.request\n",
    "import pickle\n",
    "import fitz\n",
    "import os\n",
    "\n",
    "from nltk.corpus.reader.plaintext import PlaintextCorpusReader\n",
    "from nltk import word_tokenize\n",
    "from nltk.corpus import stopwords\n",
    "from sklearn.pipeline import Pipeline\n",
    "from nltk.stem.snowball import SnowballStemmer\n",
    "from nltk.stem.wordnet import WordNetLemmatizer\n",
    "from sklearn.metrics import classification_report\n",
    "from sklearn.model_selection import cross_val_score\n",
    "from sklearn.ensemble import RandomForestClassifier, RandomForestRegressor\n",
    "from sklearn.feature_extraction.text import CountVectorizer\n",
    "from sklearn.feature_extraction.text import TfidfTransformer\n",
    "from sklearn.model_selection import train_test_split as tts\n",
    "from nltk.corpus.reader.plaintext import CategorizedPlaintextCorpusReader\n",
    "from sklearn.linear_model import LogisticRegression\n",
    "from sklearn.ensemble import AdaBoostRegressor\n",
    "from sklearn.ensemble import AdaBoostClassifier\n",
    "#from sklearn.naive_bayes import MultinomialNB\n",
    "from sklearn.preprocessing import StandardScaler\n",
    "import spacy"
   ]
  },
  {
   "cell_type": "code",
   "execution_count": 15,
   "metadata": {},
   "outputs": [],
   "source": [
    "#functions for getting to the correct page to find the minutes\n",
    "def minutesbutton(s):\n",
    "    x = ('Minutes' in s.text and \n",
    "         'Executive' not in s.text \n",
    "         #'Historical Minutes' in s.text or \n",
    "         #'Minutes of Action' in s.text or \n",
    "         #'Minutes (Including' in s.text\n",
    "        )\n",
    "    return x\n",
    "def findminuteslinks(soup):\n",
    "    return [s['href'] for s in soup.find_all('a', class_='btn') if minutesbutton(s)]\n",
    "def getsoup(link):\n",
    "    r=requests.get(link)\n",
    "    soup=BeautifulSoup(r.text)\n",
    "    time.sleep(1)\n",
    "    return soup\n",
    "def correctlinks(linkfromhomepage):\n",
    "    soup= getsoup(linkfromhomepage)\n",
    "    minuteslinks=findminuteslinks(soup)\n",
    "    if len(minuteslinks)>0:\n",
    "        minuteslinks=['https://fraser.stlouisfed.org'+minuteslink for minuteslink in minuteslinks]\n",
    "    return minuteslinks\n",
    "\n",
    "def getpdflink(minuteslink):\n",
    "    soup= getsoup(minuteslink)#'https://fraser.stlouisfed.org'+\n",
    "    try:\n",
    "        link_end= soup.find(text=re.compile('Download \\(pdf\\)')).parent['href']\n",
    "        return 'https://fraser.stlouisfed.org'+link_end\n",
    "    except:\n",
    "        return None\n",
    "def downloadpdf(pdflink):\n",
    "    name=pdflink.split('/')[-1]\n",
    "    r=requests.get(pdflink)\n",
    "    time.sleep(1)\n",
    "    file_destination_path='/Users/jamesmoss/Documents/GitHub/Notes and Exercises/IndividualExercises/Week15/FedMinutes/'\n",
    "    with open(file_destination_path+'pdfs/'+name+'.pdf', 'wb') as f:\n",
    "        f.write(r.content)\n",
    "def getpdfs(originallink, minuteslinks):\n",
    "    if len(minuteslinks)>0:\n",
    "        for minuteslink in minuteslinks:\n",
    "            pdflink=getpdflink(minuteslink)\n",
    "            downloadpdf(pdflink)\n",
    "    else:\n",
    "        try:\n",
    "            pdflink=getpdflink(originallink)\n",
    "            downloadpdf(pdflink)\n",
    "        except:\n",
    "            pass\n",
    "        \n",
    "def listify(l):\n",
    "    if isinstance(l, list):\n",
    "        return l\n",
    "    else:\n",
    "        return [l]\n",
    "\n",
    "def remove_names1993(doc):\n",
    "    # Removes all text before \"for immediate release\", only works on docs after 1993\n",
    "    deleteBefore= re.search(\"[Ff]or\\s[Ii]mmediate\\s[Rr]elease\", \\\n",
    "                            doc).start() + len ('for immediate release')\n",
    "    return doc[deleteBefore:]\n"
   ]
  },
  {
   "cell_type": "markdown",
   "metadata": {},
   "source": [
    "## Loading the data"
   ]
  },
  {
   "cell_type": "code",
   "execution_count": 4,
   "metadata": {},
   "outputs": [],
   "source": [
    "FOMC_url='https://fraser.stlouisfed.org/title/federal-open-market-committee-meeting-minutes-transcripts-documents-677?browse=1930s'\n",
    "\n",
    "r=requests.get(FOMC_url)"
   ]
  },
  {
   "cell_type": "code",
   "execution_count": 5,
   "metadata": {},
   "outputs": [],
   "source": [
    "soup=BeautifulSoup(r.text)"
   ]
  },
  {
   "cell_type": "code",
   "execution_count": 6,
   "metadata": {},
   "outputs": [],
   "source": [
    "meetings=soup.find_all('a', class_='list-item')#[0]['href']"
   ]
  },
  {
   "cell_type": "markdown",
   "metadata": {},
   "source": [
    "## Making a dataframe with relevant links and dates"
   ]
  },
  {
   "cell_type": "code",
   "execution_count": 3,
   "metadata": {},
   "outputs": [],
   "source": [
    "decades=['1930s','1940s','1950s','1960s','1970s','1980s','1990s','2000s','2010s']\n",
    "links=[]\n",
    "dates=[]\n",
    "\n",
    "for decade in decades:\n",
    "    #get the soup info\n",
    "    fomc_url='https://fraser.stlouisfed.org/title/federal-open-market-committee-meeting-minutes-transcripts-documents-677?browse='+decade\n",
    "    r=requests.get(fomc_url)\n",
    "    soup=BeautifulSoup(r.text)\n",
    "    meetings=soup.find_all('a', class_='list-item')\n",
    "    for meeting in meetings:\n",
    "        link='https://fraser.stlouisfed.org'+meeting['href']\n",
    "        date=meeting.span.text.strip()\n",
    "        \n",
    "        #go to the link\n",
    "        #get the link that says minutes or historical minutes\n",
    "        # can get it from the text here:?\n",
    "        #class=\"btn btn-success btn-sm btn-sm btn-block goto-btn\"\n",
    "        links.append(link)\n",
    "        dates.append(date)\n",
    "    time.sleep(1)"
   ]
  },
  {
   "cell_type": "code",
   "execution_count": 4,
   "metadata": {
    "scrolled": true
   },
   "outputs": [
    {
     "data": {
      "text/html": [
       "<div>\n",
       "<style scoped>\n",
       "    .dataframe tbody tr th:only-of-type {\n",
       "        vertical-align: middle;\n",
       "    }\n",
       "\n",
       "    .dataframe tbody tr th {\n",
       "        vertical-align: top;\n",
       "    }\n",
       "\n",
       "    .dataframe thead th {\n",
       "        text-align: right;\n",
       "    }\n",
       "</style>\n",
       "<table border=\"1\" class=\"dataframe\">\n",
       "  <thead>\n",
       "    <tr style=\"text-align: right;\">\n",
       "      <th></th>\n",
       "      <th>type_date</th>\n",
       "      <th>links</th>\n",
       "    </tr>\n",
       "  </thead>\n",
       "  <tbody>\n",
       "    <tr>\n",
       "      <th>0</th>\n",
       "      <td>Meeting, July 20, 1933</td>\n",
       "      <td>https://fraser.stlouisfed.org/title/federal-op...</td>\n",
       "    </tr>\n",
       "    <tr>\n",
       "      <th>1</th>\n",
       "      <td>Meeting, September 21, 1933</td>\n",
       "      <td>https://fraser.stlouisfed.org/title/federal-op...</td>\n",
       "    </tr>\n",
       "    <tr>\n",
       "      <th>2</th>\n",
       "      <td>Meeting, October 10, 1933</td>\n",
       "      <td>https://fraser.stlouisfed.org/title/federal-op...</td>\n",
       "    </tr>\n",
       "    <tr>\n",
       "      <th>3</th>\n",
       "      <td>Meeting, October 25, 1933</td>\n",
       "      <td>https://fraser.stlouisfed.org/title/federal-op...</td>\n",
       "    </tr>\n",
       "    <tr>\n",
       "      <th>4</th>\n",
       "      <td>Meeting, March 5, 1934</td>\n",
       "      <td>https://fraser.stlouisfed.org/title/federal-op...</td>\n",
       "    </tr>\n",
       "  </tbody>\n",
       "</table>\n",
       "</div>"
      ],
      "text/plain": [
       "                     type_date  \\\n",
       "0       Meeting, July 20, 1933   \n",
       "1  Meeting, September 21, 1933   \n",
       "2    Meeting, October 10, 1933   \n",
       "3    Meeting, October 25, 1933   \n",
       "4       Meeting, March 5, 1934   \n",
       "\n",
       "                                               links  \n",
       "0  https://fraser.stlouisfed.org/title/federal-op...  \n",
       "1  https://fraser.stlouisfed.org/title/federal-op...  \n",
       "2  https://fraser.stlouisfed.org/title/federal-op...  \n",
       "3  https://fraser.stlouisfed.org/title/federal-op...  \n",
       "4  https://fraser.stlouisfed.org/title/federal-op...  "
      ]
     },
     "execution_count": 4,
     "metadata": {},
     "output_type": "execute_result"
    }
   ],
   "source": [
    "minutes=pd.DataFrame(list(zip(dates, links)), columns =['type_date', 'links'])\n",
    "minutes.head(5)"
   ]
  },
  {
   "cell_type": "code",
   "execution_count": 5,
   "metadata": {},
   "outputs": [],
   "source": [
    "#todo: improve this later\n",
    "def clean_date(date):\n",
    "    date=date.replace('(Unscheduled)','')\n",
    "    date=date.split(', ')\n",
    "    date=[date[0], date[-1]].join(', ')\n",
    "    return date\n",
    "\n",
    "minutes['context']=minutes.type_date.str.split(pat=', ', n=1, expand=False).str[0]\n",
    "minutes['date']=minutes.type_date.str.split(pat=', ', n=1, expand=False).str[1]\n",
    "minutes['unscheduled']=minutes.type_date.str.contains('(Unscheduled)', regex=False)\n",
    "minutes['date']=minutes.date.str.replace('(Unscheduled)','')\n",
    "#the datestring is added onto the end of this\n",
    "#https://fraser.stlouisfed.org/files/docs/historical/FOMC/meetingdocuments/"
   ]
  },
  {
   "cell_type": "code",
   "execution_count": 6,
   "metadata": {},
   "outputs": [
    {
     "data": {
      "text/html": [
       "<div>\n",
       "<style scoped>\n",
       "    .dataframe tbody tr th:only-of-type {\n",
       "        vertical-align: middle;\n",
       "    }\n",
       "\n",
       "    .dataframe tbody tr th {\n",
       "        vertical-align: top;\n",
       "    }\n",
       "\n",
       "    .dataframe thead th {\n",
       "        text-align: right;\n",
       "    }\n",
       "</style>\n",
       "<table border=\"1\" class=\"dataframe\">\n",
       "  <thead>\n",
       "    <tr style=\"text-align: right;\">\n",
       "      <th></th>\n",
       "      <th>type_date</th>\n",
       "      <th>links</th>\n",
       "      <th>context</th>\n",
       "      <th>date</th>\n",
       "      <th>unscheduled</th>\n",
       "    </tr>\n",
       "  </thead>\n",
       "  <tbody>\n",
       "    <tr>\n",
       "      <th>0</th>\n",
       "      <td>Meeting, July 20, 1933</td>\n",
       "      <td>https://fraser.stlouisfed.org/title/federal-op...</td>\n",
       "      <td>Meeting</td>\n",
       "      <td>July 20, 1933</td>\n",
       "      <td>False</td>\n",
       "    </tr>\n",
       "    <tr>\n",
       "      <th>1</th>\n",
       "      <td>Meeting, September 21, 1933</td>\n",
       "      <td>https://fraser.stlouisfed.org/title/federal-op...</td>\n",
       "      <td>Meeting</td>\n",
       "      <td>September 21, 1933</td>\n",
       "      <td>False</td>\n",
       "    </tr>\n",
       "  </tbody>\n",
       "</table>\n",
       "</div>"
      ],
      "text/plain": [
       "                     type_date  \\\n",
       "0       Meeting, July 20, 1933   \n",
       "1  Meeting, September 21, 1933   \n",
       "\n",
       "                                               links  context  \\\n",
       "0  https://fraser.stlouisfed.org/title/federal-op...  Meeting   \n",
       "1  https://fraser.stlouisfed.org/title/federal-op...  Meeting   \n",
       "\n",
       "                 date  unscheduled  \n",
       "0       July 20, 1933        False  \n",
       "1  September 21, 1933        False  "
      ]
     },
     "execution_count": 6,
     "metadata": {},
     "output_type": "execute_result"
    }
   ],
   "source": [
    "#minutes.type_date.str.contains('Meeting')\n",
    "minutes.head(2)"
   ]
  },
  {
   "cell_type": "code",
   "execution_count": 23,
   "metadata": {},
   "outputs": [],
   "source": [
    "minutes2=minutes.dropna()\n",
    "minutes2['minuteslinks']=minutes2['links'].apply(lambda x: correctlinks(x))"
   ]
  },
  {
   "cell_type": "code",
   "execution_count": 47,
   "metadata": {},
   "outputs": [],
   "source": [
    "#minutes_copy=minutes2.copy()"
   ]
  },
  {
   "cell_type": "code",
   "execution_count": 96,
   "metadata": {},
   "outputs": [],
   "source": [
    "minutes2=minutes_copy.copy()"
   ]
  },
  {
   "cell_type": "code",
   "execution_count": 98,
   "metadata": {},
   "outputs": [
    {
     "name": "stderr",
     "output_type": "stream",
     "text": [
      "/Users/jamesmoss/opt/anaconda3/lib/python3.7/site-packages/ipykernel_launcher.py:2: SettingWithCopyWarning: \n",
      "A value is trying to be set on a copy of a slice from a DataFrame\n",
      "\n",
      "See the caveats in the documentation: https://pandas.pydata.org/pandas-docs/stable/user_guide/indexing.html#returning-a-view-versus-a-copy\n",
      "  \n"
     ]
    }
   ],
   "source": [
    "#minutes2.loc[minutes2.minuteslinks.str.len()==0, 'minuteslinks']=[minutes2['links']]\n",
    "minutes2['minuteslinks'][minutes2['minuteslinks'].str.len()==0]=minutes2['links']\n",
    "minutes2['minuteslinks']=minutes2['minuteslinks'].apply(lambda x: listify(x))\n",
    "minutes2['pdflinks']=minutes2['minuteslinks'].apply(lambda x: [getpdflink(link) for link in x])"
   ]
  },
  {
   "cell_type": "markdown",
   "metadata": {},
   "source": [
    "## Saving the DataFrame"
   ]
  },
  {
   "cell_type": "code",
   "execution_count": 120,
   "metadata": {},
   "outputs": [],
   "source": [
    "minutes2.to_csv('/Users/jamesmoss/Documents/GitHub/CapstoneProjects/Capstone4/minuteslinks_dates.csv')\n",
    "#Unnamed column was the index"
   ]
  },
  {
   "cell_type": "code",
   "execution_count": 123,
   "metadata": {},
   "outputs": [],
   "source": [
    "minutes2.to_pickle('/Users/jamesmoss/Documents/GitHub/CapstoneProjects/Capstone4/minuteslinks_datesDF.pkl')"
   ]
  },
  {
   "cell_type": "code",
   "execution_count": 7,
   "metadata": {},
   "outputs": [],
   "source": [
    "#minutes2=pd.read_csv('/Users/jamesmoss/Documents/GitHub/CapstoneProjects/Capstone4/minuteslinks_dates.csv')"
   ]
  },
  {
   "cell_type": "code",
   "execution_count": 12,
   "metadata": {},
   "outputs": [],
   "source": [
    "minutes2=pickle.load(open('/Users/jamesmoss/Documents/GitHub/CapstoneProjects/Capstone4/minuteslinks_datesDF.pkl', 'rb'))"
   ]
  },
  {
   "cell_type": "markdown",
   "metadata": {
    "scrolled": true
   },
   "source": [
    "## Saving the PDFs"
   ]
  },
  {
   "cell_type": "code",
   "execution_count": 32,
   "metadata": {},
   "outputs": [],
   "source": [
    "file_destination_path='/Users/jamesmoss/Documents/GitHub/CapstoneProjects/Capstone4/minutespdfs/'\n",
    "\n",
    "for date in minutes2.pdflinks:\n",
    "    for url in date:\n",
    "        try:\n",
    "            name=url.split('/')[-1]\n",
    "            r=requests.get(url)\n",
    "            time.sleep(1)\n",
    "\n",
    "            with open(file_destination_path+name, 'wb') as f:\n",
    "                f.write(r.content)\n",
    "        except:\n",
    "            continue"
   ]
  },
  {
   "cell_type": "markdown",
   "metadata": {},
   "source": [
    "## Making the text files"
   ]
  },
  {
   "cell_type": "code",
   "execution_count": 52,
   "metadata": {},
   "outputs": [
    {
     "name": "stderr",
     "output_type": "stream",
     "text": [
      "mupdf: cannot recognize version marker\n",
      "mupdf: no objects found\n"
     ]
    },
    {
     "name": "stdout",
     "output_type": "stream",
     "text": [
      ".DS_Store\n"
     ]
    }
   ],
   "source": [
    "# for document in file:\n",
    "text_path='/Users/jamesmoss/Documents/GitHub/CapstoneProjects/Capstone4/minutestexts/'\n",
    "pdf_path='/Users/jamesmoss/Documents/GitHub/CapstoneProjects/Capstone4/minutespdfs/'\n",
    "pdf_list=os.listdir(pdf_path)\n",
    "for document in pdf_list:\n",
    "    textfile_name=document.split('.')[0]\n",
    "    try:\n",
    "        with fitz.open(pdf_path+document) as doc:\n",
    "            text = \"\"\n",
    "            for page in doc:\n",
    "                text += page.getText()\n",
    "            with open(text_path+textfile_name+'.txt', 'w') as textfile:\n",
    "                textfile.write(text)\n",
    "    except:\n",
    "        print(document)"
   ]
  },
  {
   "cell_type": "markdown",
   "metadata": {},
   "source": [
    "## Creating the corpus"
   ]
  },
  {
   "cell_type": "code",
   "execution_count": 13,
   "metadata": {
    "scrolled": true
   },
   "outputs": [],
   "source": [
    "text_path='/Users/jamesmoss/Documents/GitHub/CapstoneProjects/Capstone4/minutestexts/'\n",
    "text_list=os.listdir(text_path)\n",
    "def find_date(filename):\n",
    "    datestring=re.findall('20\\d\\d\\d\\d\\d\\d|19\\d\\d\\d\\d\\d\\d|21\\d\\d\\d\\d\\d\\d', filename)\n",
    "    return datestring\n",
    "def text_from_filename(directory, filename):\n",
    "    with open(directory+filename, 'r') as file:\n",
    "        text = file.read()\n",
    "    return text"
   ]
  },
  {
   "cell_type": "code",
   "execution_count": 21,
   "metadata": {},
   "outputs": [
    {
     "name": "stdout",
     "output_type": "stream",
     "text": [
      "964\n"
     ]
    }
   ],
   "source": [
    "minutes={}\n",
    "minutes['date']=[]\n",
    "minutes['filename']=[]\n",
    "#minutes['text']=[]\n",
    "count=0\n",
    "for txtfile in text_list:\n",
    "    if find_date(txtfile) and '.txt' in txtfile:\n",
    "        count=count+1\n",
    "        minutes['date'].append(find_date(txtfile)[0])\n",
    "        minutes['filename'].append(txtfile)\n",
    "print(count)"
   ]
  },
  {
   "cell_type": "markdown",
   "metadata": {},
   "source": []
  },
  {
   "cell_type": "code",
   "execution_count": 90,
   "metadata": {},
   "outputs": [
    {
     "name": "stdout",
     "output_type": "stream",
     "text": [
      "900917ConfCall.txt\n",
      "marconf.txt\n"
     ]
    }
   ],
   "source": [
    "#Debugging\n",
    "#I messed up my first time through and used the following code to correct my mistake, but it should be fixed above.\n",
    "# def fix_date(doc_name):\n",
    "#     try:\n",
    "#         date=find_date(doc_name)[0]\n",
    "#         return date\n",
    "#     except:\n",
    "#         print(doc_name)\n",
    "#         return np.nan\n",
    "# minutes_df['date']=minutes_df['filename'].apply(lambda x: fix_date(x))"
   ]
  },
  {
   "cell_type": "code",
   "execution_count": 22,
   "metadata": {
    "scrolled": true
   },
   "outputs": [
    {
     "data": {
      "text/html": [
       "<div>\n",
       "<style scoped>\n",
       "    .dataframe tbody tr th:only-of-type {\n",
       "        vertical-align: middle;\n",
       "    }\n",
       "\n",
       "    .dataframe tbody tr th {\n",
       "        vertical-align: top;\n",
       "    }\n",
       "\n",
       "    .dataframe thead th {\n",
       "        text-align: right;\n",
       "    }\n",
       "</style>\n",
       "<table border=\"1\" class=\"dataframe\">\n",
       "  <thead>\n",
       "    <tr style=\"text-align: right;\">\n",
       "      <th></th>\n",
       "      <th>date</th>\n",
       "      <th>filename</th>\n",
       "    </tr>\n",
       "  </thead>\n",
       "  <tbody>\n",
       "    <tr>\n",
       "      <th>0</th>\n",
       "      <td>20121023</td>\n",
       "      <td>fomchistmin19560417.txt</td>\n",
       "    </tr>\n",
       "    <tr>\n",
       "      <th>1</th>\n",
       "      <td>20121023</td>\n",
       "      <td>fomcminutes20090603.txt</td>\n",
       "    </tr>\n",
       "    <tr>\n",
       "      <th>2</th>\n",
       "      <td>20121023</td>\n",
       "      <td>fomcmoa19680206.txt</td>\n",
       "    </tr>\n",
       "    <tr>\n",
       "      <th>3</th>\n",
       "      <td>20121023</td>\n",
       "      <td>19971216min.txt</td>\n",
       "    </tr>\n",
       "    <tr>\n",
       "      <th>4</th>\n",
       "      <td>20121023</td>\n",
       "      <td>19851001MoA.txt</td>\n",
       "    </tr>\n",
       "  </tbody>\n",
       "</table>\n",
       "</div>"
      ],
      "text/plain": [
       "       date                 filename\n",
       "0  20121023  fomchistmin19560417.txt\n",
       "1  20121023  fomcminutes20090603.txt\n",
       "2  20121023      fomcmoa19680206.txt\n",
       "3  20121023          19971216min.txt\n",
       "4  20121023          19851001MoA.txt"
      ]
     },
     "execution_count": 22,
     "metadata": {},
     "output_type": "execute_result"
    }
   ],
   "source": [
    "minutes_df=pd.DataFrame.from_dict(minutes)\n",
    "minutes_df.head(2)"
   ]
  },
  {
   "cell_type": "code",
   "execution_count": 23,
   "metadata": {},
   "outputs": [],
   "source": [
    "minutes_df['raw_text']=minutes_df['filename'].apply(lambda x: text_from_filename(text_path, x))"
   ]
  },
  {
   "cell_type": "code",
   "execution_count": 93,
   "metadata": {},
   "outputs": [
    {
     "data": {
      "text/html": [
       "<div>\n",
       "<style scoped>\n",
       "    .dataframe tbody tr th:only-of-type {\n",
       "        vertical-align: middle;\n",
       "    }\n",
       "\n",
       "    .dataframe tbody tr th {\n",
       "        vertical-align: top;\n",
       "    }\n",
       "\n",
       "    .dataframe thead th {\n",
       "        text-align: right;\n",
       "    }\n",
       "</style>\n",
       "<table border=\"1\" class=\"dataframe\">\n",
       "  <thead>\n",
       "    <tr style=\"text-align: right;\">\n",
       "      <th></th>\n",
       "      <th>date</th>\n",
       "      <th>filename</th>\n",
       "      <th>raw_text</th>\n",
       "      <th>preprocessed</th>\n",
       "      <th>datetime</th>\n",
       "      <th>next_month</th>\n",
       "    </tr>\n",
       "  </thead>\n",
       "  <tbody>\n",
       "    <tr>\n",
       "      <th>0</th>\n",
       "      <td>19560417</td>\n",
       "      <td>fomchistmin19560417.txt</td>\n",
       "      <td>A meeting of the Federal Open Market Committee...</td>\n",
       "      <td>meet feder open market committe held offic boa...</td>\n",
       "      <td>2012-10-23</td>\n",
       "      <td>2012-11-01</td>\n",
       "    </tr>\n",
       "    <tr>\n",
       "      <th>1</th>\n",
       "      <td>20090603</td>\n",
       "      <td>fomcminutes20090603.txt</td>\n",
       "      <td>Minutes of the Federal Open Market Committee \\...</td>\n",
       "      <td>minut feder open market committe june 2009 joi...</td>\n",
       "      <td>2012-10-23</td>\n",
       "      <td>2012-11-01</td>\n",
       "    </tr>\n",
       "  </tbody>\n",
       "</table>\n",
       "</div>"
      ],
      "text/plain": [
       "       date                 filename  \\\n",
       "0  19560417  fomchistmin19560417.txt   \n",
       "1  20090603  fomcminutes20090603.txt   \n",
       "\n",
       "                                            raw_text  \\\n",
       "0  A meeting of the Federal Open Market Committee...   \n",
       "1  Minutes of the Federal Open Market Committee \\...   \n",
       "\n",
       "                                        preprocessed   datetime next_month  \n",
       "0  meet feder open market committe held offic boa... 2012-10-23 2012-11-01  \n",
       "1  minut feder open market committe june 2009 joi... 2012-10-23 2012-11-01  "
      ]
     },
     "execution_count": 93,
     "metadata": {},
     "output_type": "execute_result"
    }
   ],
   "source": [
    "minutes_df.head(2)"
   ]
  },
  {
   "cell_type": "markdown",
   "metadata": {},
   "source": [
    "## Preprocessing the text"
   ]
  },
  {
   "cell_type": "code",
   "execution_count": 345,
   "metadata": {},
   "outputs": [],
   "source": [
    "#the first only takes away stop words and punctuation, the second also lemmatizes\n",
    "\n",
    "def processing(doc, lemmatize=True):\n",
    "    nlp = spacy.load('en')\n",
    "    tokenized=nlp(doc)\n",
    "    no_stops_punct=[token for token in tokenized if not token.is_stop if not token.is_punct if str(token).strip()]\n",
    "    if lemmatize==True:\n",
    "        no_stops_punct=[word.lemma_ for word in no_stops_punct]\n",
    "    return no_stops_punct\n",
    "\n",
    "\n",
    "def preprocess(doc):\n",
    "    lemmatizer = WordNetLemmatizer()\n",
    "    stemmer = SnowballStemmer('english')\n",
    "    \n",
    "    tokenized = word_tokenize(doc)\n",
    "\n",
    "    cleaned = [stemmer.stem(lemmatizer.lemmatize(token.lower())) \n",
    "               for token in tokenized \n",
    "               if not token.lower() in stopwords.words('english') \n",
    "               if token.isalnum()] #should I make this also include numbers?\n",
    "               \n",
    "\n",
    "    untokenized = \" \".join(cleaned)\n",
    "    #preprocessed.append(untokenized)\n",
    "        \n",
    "    return untokenized\n"
   ]
  },
  {
   "cell_type": "code",
   "execution_count": 38,
   "metadata": {
    "scrolled": false
   },
   "outputs": [],
   "source": [
    "minutes_df['preprocessed']=minutes_df['raw_text'].apply(lambda x: preprocess(x))"
   ]
  },
  {
   "cell_type": "code",
   "execution_count": 346,
   "metadata": {},
   "outputs": [],
   "source": [
    "minutes_df['no_stops_punct']=minutes_df['raw_text'].apply(lambda x: processing(x, lemmatize=False))"
   ]
  },
  {
   "cell_type": "code",
   "execution_count": 371,
   "metadata": {},
   "outputs": [],
   "source": [
    "wordstoremove=['Mr.', 'Mrs.', 'Federal', 'Open', 'Market', 'Committee', 'members', 'Presidents', \n",
    "              'Chairman', 'meeting', 'a.m.', 'p.m.', 'held', 'minutes', 'governors', 'board', 'offices']\n",
    "minutes_df['no_stops_punct_string']=minutes_df['no_stops_punct'].apply(lambda x: ' '.join([str(w) for w in x if str(w) not in wordstoremove]))\n",
    "\n"
   ]
  },
  {
   "cell_type": "code",
   "execution_count": 94,
   "metadata": {},
   "outputs": [],
   "source": [
    "minutes_df['datetime']=pd.to_datetime(minutes_df['date'])\n",
    "minutes_df['next_month']=minutes_df['datetime']+pd.offsets.MonthBegin(0)\n",
    "minutes_df=minutes_df.dropna()\n",
    "minutes_df.info()"
   ]
  },
  {
   "cell_type": "code",
   "execution_count": 100,
   "metadata": {},
   "outputs": [],
   "source": [
    "minutes_df.to_pickle('/Users/jamesmoss/Documents/GitHub/CapstoneProjects/Capstone4/preprocessed_minutes_df.pkl')"
   ]
  },
  {
   "cell_type": "markdown",
   "metadata": {},
   "source": [
    "## Getting the federal funds rate changes"
   ]
  },
  {
   "cell_type": "code",
   "execution_count": 43,
   "metadata": {},
   "outputs": [],
   "source": [
    "fed_funds=pd.read_csv('/Users/jamesmoss/Documents/GitHub/CapstoneProjects/Capstone4/FEDFUNDS.csv')\n",
    "fed_funds['datetime']=pd.to_datetime(fed_funds['DATE'])\n",
    "fed_funds['shifted']=fed_funds['FEDFUNDS'].shift(1)\n",
    "fed_funds['change']=fed_funds['FEDFUNDS']-fed_funds['shifted']\n",
    "fed_funds['change_cat']=0\n",
    "fed_funds.loc[fed_funds['change']>.125, 'change_cat']=1\n",
    "fed_funds.loc[fed_funds['change']<-.125, 'change_cat']=-1\n",
    "fed_funds['change_binary']=0\n",
    "fed_funds.loc[fed_funds['change'].abs()>.125, 'change_binary']=1\n",
    "fed_funds.head(3)"
   ]
  },
  {
   "cell_type": "markdown",
   "metadata": {},
   "source": [
    "I added the change column, which indicates month over month change in the interest rate; change_cat, which indicates if there was negative (-1), no (0), or positive (1) change in the federal funds rate."
   ]
  },
  {
   "cell_type": "code",
   "execution_count": 110,
   "metadata": {},
   "outputs": [
    {
     "data": {
      "text/plain": [
       "Timestamp('1954-07-01 00:00:00')"
      ]
     },
     "execution_count": 110,
     "metadata": {},
     "output_type": "execute_result"
    }
   ],
   "source": [
    "#when the dataframe starts\n",
    "fed_funds.datetime.min()"
   ]
  },
  {
   "cell_type": "markdown",
   "metadata": {},
   "source": [
    "Remember that the minutes_df dataset contains minutes from before 1954, which will be lost after merging"
   ]
  },
  {
   "cell_type": "markdown",
   "metadata": {},
   "source": [
    "## Merging the data"
   ]
  },
  {
   "cell_type": "code",
   "execution_count": 315,
   "metadata": {},
   "outputs": [],
   "source": [
    "merged_df=minutes_df.merge(fed_funds, how='inner', left_on='next_month', right_on='datetime', suffixes=['_min','_fed'])\n",
    "merged_df=merged_df.drop(columns=['shifted'])\n",
    "merged_df.tail(2)"
   ]
  },
  {
   "cell_type": "code",
   "execution_count": 404,
   "metadata": {},
   "outputs": [
    {
     "data": {
      "text/html": [
       "<div>\n",
       "<style scoped>\n",
       "    .dataframe tbody tr th:only-of-type {\n",
       "        vertical-align: middle;\n",
       "    }\n",
       "\n",
       "    .dataframe tbody tr th {\n",
       "        vertical-align: top;\n",
       "    }\n",
       "\n",
       "    .dataframe thead th {\n",
       "        text-align: right;\n",
       "    }\n",
       "</style>\n",
       "<table border=\"1\" class=\"dataframe\">\n",
       "  <thead>\n",
       "    <tr style=\"text-align: right;\">\n",
       "      <th></th>\n",
       "      <th>date</th>\n",
       "      <th>filename</th>\n",
       "      <th>raw_text</th>\n",
       "      <th>preprocessed</th>\n",
       "      <th>datetime_min</th>\n",
       "      <th>next_month</th>\n",
       "      <th>DATE</th>\n",
       "      <th>FEDFUNDS</th>\n",
       "      <th>datetime_fed</th>\n",
       "      <th>change</th>\n",
       "      <th>change_cat</th>\n",
       "      <th>change_binary</th>\n",
       "      <th>change_1</th>\n",
       "      <th>change_binary_1</th>\n",
       "    </tr>\n",
       "  </thead>\n",
       "  <tbody>\n",
       "    <tr>\n",
       "      <th>0</th>\n",
       "      <td>19560417</td>\n",
       "      <td>fomchistmin19560417.txt</td>\n",
       "      <td>A meeting of the Federal Open Market Committee...</td>\n",
       "      <td>meet feder open market committe held offic boa...</td>\n",
       "      <td>1956-04-17</td>\n",
       "      <td>1956-05-01</td>\n",
       "      <td>1956-05-01</td>\n",
       "      <td>2.75</td>\n",
       "      <td>1956-05-01</td>\n",
       "      <td>0.13</td>\n",
       "      <td>1</td>\n",
       "      <td>1</td>\n",
       "      <td>-0.05</td>\n",
       "      <td>0</td>\n",
       "    </tr>\n",
       "    <tr>\n",
       "      <th>1</th>\n",
       "      <td>20090603</td>\n",
       "      <td>fomcminutes20090603.txt</td>\n",
       "      <td>Minutes of the Federal Open Market Committee \\...</td>\n",
       "      <td>minut feder open market committe june 2009 joi...</td>\n",
       "      <td>2009-06-03</td>\n",
       "      <td>2009-07-01</td>\n",
       "      <td>2009-07-01</td>\n",
       "      <td>0.16</td>\n",
       "      <td>2009-07-01</td>\n",
       "      <td>-0.05</td>\n",
       "      <td>0</td>\n",
       "      <td>0</td>\n",
       "      <td>-0.05</td>\n",
       "      <td>0</td>\n",
       "    </tr>\n",
       "  </tbody>\n",
       "</table>\n",
       "</div>"
      ],
      "text/plain": [
       "       date                 filename  \\\n",
       "0  19560417  fomchistmin19560417.txt   \n",
       "1  20090603  fomcminutes20090603.txt   \n",
       "\n",
       "                                            raw_text  \\\n",
       "0  A meeting of the Federal Open Market Committee...   \n",
       "1  Minutes of the Federal Open Market Committee \\...   \n",
       "\n",
       "                                        preprocessed datetime_min next_month  \\\n",
       "0  meet feder open market committe held offic boa...   1956-04-17 1956-05-01   \n",
       "1  minut feder open market committe june 2009 joi...   2009-06-03 2009-07-01   \n",
       "\n",
       "         DATE  FEDFUNDS datetime_fed  change  change_cat  change_binary  \\\n",
       "0  1956-05-01      2.75   1956-05-01    0.13           1              1   \n",
       "1  2009-07-01      0.16   2009-07-01   -0.05           0              0   \n",
       "\n",
       "   change_1  change_binary_1  \n",
       "0     -0.05                0  \n",
       "1     -0.05                0  "
      ]
     },
     "execution_count": 404,
     "metadata": {},
     "output_type": "execute_result"
    }
   ],
   "source": [
    "merged_df.head(2)"
   ]
  },
  {
   "cell_type": "code",
   "execution_count": 318,
   "metadata": {},
   "outputs": [],
   "source": [
    "#Shifting the changes down one for the purposes of trying to predict an extra month in the future:\n",
    "merged_df['change_1']=merged_df['change'].shift(-1).dropna()\n",
    "merged_df['change_binary_1']=merged_df['change_binary'].shift(-1)\n",
    "merged_df=merged_df.dropna()\n",
    "merged_df['change_binary_1']=merged_df['change_binary_1'].astype(int)"
   ]
  },
  {
   "cell_type": "code",
   "execution_count": 8,
   "metadata": {},
   "outputs": [],
   "source": [
    "#merged_df.to_pickle('/Users/jamesmoss/Documents/GitHub/CapstoneProjects/Capstone4/merged_df.pkl')\n",
    "merged_df.to_csv('/Users/jamesmoss/Documents/GitHub/CapstoneProjects/Capstone4/merged_df.csv', index=False)\n",
    "\n",
    "#merged_df=pickle.load(open('/Users/jamesmoss/Documents/GitHub/CapstoneProjects/Capstone4/merged_df.pkl', 'rb'))"
   ]
  },
  {
   "cell_type": "code",
   "execution_count": 18,
   "metadata": {},
   "outputs": [],
   "source": [
    "#make a column of tokenized documents \n",
    "nlp = spacy.load('en')\n",
    "nlp.add_pipe(nlp.create_pipe('sentencizer'))\n",
    "merged_df['tokenized']=merged_df['raw_text'].apply(lambda x: nlp(x))"
   ]
  },
  {
   "cell_type": "code",
   "execution_count": null,
   "metadata": {
    "scrolled": true
   },
   "outputs": [],
   "source": [
    "merged_df=merged_df.drop(columns=['tokenized'])"
   ]
  },
  {
   "cell_type": "markdown",
   "metadata": {},
   "source": [
    "## EDA"
   ]
  },
  {
   "cell_type": "markdown",
   "metadata": {},
   "source": [
    "Examining federal funds rate changes:"
   ]
  },
  {
   "cell_type": "code",
   "execution_count": 389,
   "metadata": {},
   "outputs": [
    {
     "data": {
      "text/plain": [
       "(796,)"
      ]
     },
     "execution_count": 389,
     "metadata": {},
     "output_type": "execute_result"
    }
   ],
   "source": [
    "fed_funds.datetime.shape"
   ]
  },
  {
   "cell_type": "code",
   "execution_count": 319,
   "metadata": {},
   "outputs": [
    {
     "data": {
      "text/plain": [
       "<matplotlib.axes._subplots.AxesSubplot at 0x7fa873903790>"
      ]
     },
     "execution_count": 319,
     "metadata": {},
     "output_type": "execute_result"
    },
    {
     "data": {
      "image/png": "[encoded data removed]",
      "text/plain": [
       "<Figure size 432x288 with 1 Axes>"
      ]
     },
     "metadata": {
      "needs_background": "light"
     },
     "output_type": "display_data"
    }
   ],
   "source": [
    "merged_df.plot(y='FEDFUNDS',x='datetime_fed')"
   ]
  },
  {
   "cell_type": "code",
   "execution_count": 320,
   "metadata": {
    "scrolled": false
   },
   "outputs": [
    {
     "data": {
      "text/plain": [
       "<matplotlib.axes._subplots.AxesSubplot at 0x7fa873a82bd0>"
      ]
     },
     "execution_count": 320,
     "metadata": {},
     "output_type": "execute_result"
    },
    {
     "data": {
      "image/png": "[encoded data removed]",
      "text/plain": [
       "<Figure size 432x288 with 1 Axes>"
      ]
     },
     "metadata": {
      "needs_background": "light"
     },
     "output_type": "display_data"
    }
   ],
   "source": [
    "merged_df.plot(y='change',x='datetime_fed')"
   ]
  },
  {
   "cell_type": "code",
   "execution_count": 338,
   "metadata": {},
   "outputs": [
    {
     "data": {
      "text/plain": [
       "array([[<matplotlib.axes._subplots.AxesSubplot object at 0x7fa8756704d0>]],\n",
       "      dtype=object)"
      ]
     },
     "execution_count": 338,
     "metadata": {},
     "output_type": "execute_result"
    },
    {
     "data": {
      "image/png": "[encoded data removed]",
      "text/plain": [
       "<Figure size 432x288 with 1 Axes>"
      ]
     },
     "metadata": {
      "needs_background": "light"
     },
     "output_type": "display_data"
    }
   ],
   "source": [
    "merged_df.hist('change', bins=20)"
   ]
  },
  {
   "cell_type": "markdown",
   "metadata": {},
   "source": [
    "Now, looking at the minutes"
   ]
  },
  {
   "cell_type": "code",
   "execution_count": null,
   "metadata": {},
   "outputs": [],
   "source": [
    "minutes_summary_df=minutes_df[['no_stops_punct_string','datetime']].copy()\n",
    "minutes_summary_df['year']=minutes_summary_df['datetime'].dt.year\n",
    "minutes_summary_df['decade']=minutes_summary_df['datetime'].dt.year//10\n",
    "yearly_text=minutes_df[['raw_text', 'datetime']]"
   ]
  },
  {
   "cell_type": "code",
   "execution_count": null,
   "metadata": {
    "scrolled": true
   },
   "outputs": [],
   "source": [
    "#was trying to make a wordcloud per decade, should probably give up\n",
    "from wordcloud import WordCloud, STOPWORDS, ImageColorGenerator\n",
    "import matplotlib.pyplot as plt\n",
    "\n",
    "for decadetext in minutes_summary_df[['no_stops_punct_string','decade']].groupby(by='decade')['no_stops_punct_string'].transform(lambda x: ' '.join(x)):\n",
    "    wordcloud = WordCloud(max_font_size=70, max_words=100, background_color=\"white\").generate(decadetext)\n",
    "    plt.figure()\n",
    "    plt.imshow(wordcloud, interpolation=\"bilinear\")\n",
    "    plt.axis(\"off\")\n",
    "    plt.show()"
   ]
  },
  {
   "cell_type": "code",
   "execution_count": 392,
   "metadata": {},
   "outputs": [
    {
     "data": {
      "image/png": "[encoded data removed]",
      "text/plain": [
       "<Figure size 432x288 with 1 Axes>"
      ]
     },
     "metadata": {
      "needs_background": "light"
     },
     "output_type": "display_data"
    }
   ],
   "source": [
    "#making a word cloud for all the text\n",
    "remove_words=['feder', 'reserv', 'per cent', 'market', 'committe', 'reserve', 'bank']\n",
    "all_text=' '.join(minutes_df['preprocessed'])\n",
    "for word in remove_words:\n",
    "    all_text=all_text.replace(word, '')\n",
    "wordcloud = WordCloud(max_font_size=70, max_words=100, background_color=\"white\").generate(all_text)\n",
    "plt.figure()\n",
    "plt.imshow(wordcloud, interpolation=\"bilinear\")\n",
    "plt.axis(\"off\")\n",
    "plt.show()"
   ]
  },
  {
   "cell_type": "code",
   "execution_count": 398,
   "metadata": {},
   "outputs": [],
   "source": [
    "minutes_df['length']=minutes_df['preprocessed'].apply(lambda x: len(x))\n",
    "minutes_df['vocab']=minutes_df['preprocessed'].apply(lambda x: len(set(x)))"
   ]
  },
  {
   "cell_type": "code",
   "execution_count": 399,
   "metadata": {
    "scrolled": true
   },
   "outputs": [
    {
     "data": {
      "text/plain": [
       "<matplotlib.axes._subplots.AxesSubplot at 0x7fa6cf199cd0>"
      ]
     },
     "execution_count": 399,
     "metadata": {},
     "output_type": "execute_result"
    },
    {
     "data": {
      "image/png": "[encoded data removed]",
      "text/plain": [
       "<Figure size 432x288 with 1 Axes>"
      ]
     },
     "metadata": {
      "needs_background": "light"
     },
     "output_type": "display_data"
    }
   ],
   "source": [
    "minutes_df.plot(y='length',x='datetime')"
   ]
  },
  {
   "cell_type": "code",
   "execution_count": 402,
   "metadata": {},
   "outputs": [
    {
     "data": {
      "text/plain": [
       "<matplotlib.axes._subplots.AxesSubplot at 0x7fa6e26bbc50>"
      ]
     },
     "execution_count": 402,
     "metadata": {},
     "output_type": "execute_result"
    },
    {
     "data": {
      "image/png": "[encoded data removed]",
      "text/plain": [
       "<Figure size 432x288 with 1 Axes>"
      ]
     },
     "metadata": {
      "needs_background": "light"
     },
     "output_type": "display_data"
    }
   ],
   "source": [
    "minutes_df.plot(y='vocab',x='datetime')"
   ]
  },
  {
   "cell_type": "code",
   "execution_count": 397,
   "metadata": {},
   "outputs": [
    {
     "data": {
      "text/html": [
       "<div>\n",
       "<style scoped>\n",
       "    .dataframe tbody tr th:only-of-type {\n",
       "        vertical-align: middle;\n",
       "    }\n",
       "\n",
       "    .dataframe tbody tr th {\n",
       "        vertical-align: top;\n",
       "    }\n",
       "\n",
       "    .dataframe thead th {\n",
       "        text-align: right;\n",
       "    }\n",
       "</style>\n",
       "<table border=\"1\" class=\"dataframe\">\n",
       "  <thead>\n",
       "    <tr style=\"text-align: right;\">\n",
       "      <th></th>\n",
       "      <th>date</th>\n",
       "      <th>filename</th>\n",
       "      <th>raw_text</th>\n",
       "      <th>preprocessed</th>\n",
       "      <th>datetime</th>\n",
       "      <th>next_month</th>\n",
       "      <th>no_stops_punct</th>\n",
       "      <th>no_stops_punct_string</th>\n",
       "    </tr>\n",
       "  </thead>\n",
       "  <tbody>\n",
       "    <tr>\n",
       "      <th>0</th>\n",
       "      <td>19560417</td>\n",
       "      <td>fomchistmin19560417.txt</td>\n",
       "      <td>A meeting of the Federal Open Market Committee...</td>\n",
       "      <td>meet feder open market committe held offic boa...</td>\n",
       "      <td>1956-04-17</td>\n",
       "      <td>1956-05-01</td>\n",
       "      <td>[meeting, Federal, Open, Market, Committee, he...</td>\n",
       "      <td>Board Governors Reserve System Washington Tues...</td>\n",
       "    </tr>\n",
       "    <tr>\n",
       "      <th>1</th>\n",
       "      <td>20090603</td>\n",
       "      <td>fomcminutes20090603.txt</td>\n",
       "      <td>Minutes of the Federal Open Market Committee \\...</td>\n",
       "      <td>minut feder open market committe june 2009 joi...</td>\n",
       "      <td>2009-06-03</td>\n",
       "      <td>2009-07-01</td>\n",
       "      <td>[Minutes, Federal, Open, Market, Committee, Ju...</td>\n",
       "      <td>Minutes June 23 24 2009 joint Commit- tee Boar...</td>\n",
       "    </tr>\n",
       "  </tbody>\n",
       "</table>\n",
       "</div>"
      ],
      "text/plain": [
       "       date                 filename  \\\n",
       "0  19560417  fomchistmin19560417.txt   \n",
       "1  20090603  fomcminutes20090603.txt   \n",
       "\n",
       "                                            raw_text  \\\n",
       "0  A meeting of the Federal Open Market Committee...   \n",
       "1  Minutes of the Federal Open Market Committee \\...   \n",
       "\n",
       "                                        preprocessed   datetime next_month  \\\n",
       "0  meet feder open market committe held offic boa... 1956-04-17 1956-05-01   \n",
       "1  minut feder open market committe june 2009 joi... 2009-06-03 2009-07-01   \n",
       "\n",
       "                                      no_stops_punct  \\\n",
       "0  [meeting, Federal, Open, Market, Committee, he...   \n",
       "1  [Minutes, Federal, Open, Market, Committee, Ju...   \n",
       "\n",
       "                               no_stops_punct_string  \n",
       "0  Board Governors Reserve System Washington Tues...  \n",
       "1  Minutes June 23 24 2009 joint Commit- tee Boar...  "
      ]
     },
     "execution_count": 397,
     "metadata": {},
     "output_type": "execute_result"
    }
   ],
   "source": [
    "#get preprocessed summary statistics\n",
    "minutes_df.head(2)"
   ]
  },
  {
   "cell_type": "code",
   "execution_count": null,
   "metadata": {},
   "outputs": [],
   "source": [
    "#todo: find keywords from each decade\n",
    "#Extracting keywords\n",
    "from gensim.summarization import keywords\n",
    "def keywords(docs):\n",
    "    for index, doc in enumerate(docs):\n",
    "        key_words = keywords(doc, words=5, lemmatize=True).split('\\n')\n",
    "        print('Article', index, 'Keywords:', key_words)"
   ]
  },
  {
   "cell_type": "markdown",
   "metadata": {},
   "source": [
    "## Making the classifiers"
   ]
  },
  {
   "cell_type": "markdown",
   "metadata": {},
   "source": [
    "### Binary Classification:\n",
    "\n",
    "#### Using all available dates (back to 1954):"
   ]
  },
  {
   "cell_type": "code",
   "execution_count": 321,
   "metadata": {},
   "outputs": [
    {
     "data": {
      "text/plain": [
       "Pipeline(memory=None,\n",
       "         steps=[('vect',\n",
       "                 CountVectorizer(analyzer='word', binary=False,\n",
       "                                 decode_error='strict',\n",
       "                                 dtype=<class 'numpy.int64'>, encoding='utf-8',\n",
       "                                 input='content', lowercase=True, max_df=1.0,\n",
       "                                 max_features=None, min_df=1,\n",
       "                                 ngram_range=(1, 1), preprocessor=None,\n",
       "                                 stop_words=None, strip_accents=None,\n",
       "                                 token_pattern='(?u)\\\\b\\\\w\\\\w+\\\\b',\n",
       "                                 tokenizer=None, vocabulary=Non...\n",
       "                 RandomForestClassifier(bootstrap=True, ccp_alpha=0.0,\n",
       "                                        class_weight=None, criterion='gini',\n",
       "                                        max_depth=12, max_features='auto',\n",
       "                                        max_leaf_nodes=None, max_samples=None,\n",
       "                                        min_impurity_decrease=0.0,\n",
       "                                        min_impurity_split=None,\n",
       "                                        min_samples_leaf=4, min_samples_split=2,\n",
       "                                        min_weight_fraction_leaf=0.0,\n",
       "                                        n_estimators=75, n_jobs=None,\n",
       "                                        oob_score=False, random_state=None,\n",
       "                                        verbose=0, warm_start=False))],\n",
       "         verbose=False)"
      ]
     },
     "execution_count": 321,
     "metadata": {},
     "output_type": "execute_result"
    }
   ],
   "source": [
    "#random forest\n",
    "x_train, x_test, y_train, y_test = tts(merged_df['preprocessed'], merged_df['change_binary'], test_size=0.3)\n",
    "\n",
    "rfc_model = Pipeline([\n",
    "    ('vect', CountVectorizer()),\n",
    "    ('tfidf', TfidfTransformer()),\n",
    "    ('clf', RandomForestClassifier(n_estimators=75, min_samples_leaf=4, max_depth=12)),\n",
    "])\n",
    "\n",
    "rfc_model.fit(x_train, y_train)"
   ]
  },
  {
   "cell_type": "code",
   "execution_count": 322,
   "metadata": {},
   "outputs": [
    {
     "data": {
      "text/plain": [
       "0.9634782608695652"
      ]
     },
     "execution_count": 322,
     "metadata": {},
     "output_type": "execute_result"
    }
   ],
   "source": [
    "rfc_model.score(x_train, y_train)"
   ]
  },
  {
   "cell_type": "code",
   "execution_count": 323,
   "metadata": {},
   "outputs": [
    {
     "name": "stdout",
     "output_type": "stream",
     "text": [
      "              precision    recall  f1-score   support\n",
      "\n",
      "           0       0.68      0.76      0.72       116\n",
      "           1       0.76      0.69      0.72       131\n",
      "\n",
      "    accuracy                           0.72       247\n",
      "   macro avg       0.72      0.72      0.72       247\n",
      "weighted avg       0.72      0.72      0.72       247\n",
      "\n"
     ]
    }
   ],
   "source": [
    "rfc_model_predictions = rfc_model.predict(x_test)\n",
    "print(classification_report(y_test, rfc_model_predictions))"
   ]
  },
  {
   "cell_type": "code",
   "execution_count": 253,
   "metadata": {},
   "outputs": [
    {
     "data": {
      "text/plain": [
       "Pipeline(memory=None,\n",
       "         steps=[('vect',\n",
       "                 CountVectorizer(analyzer='word', binary=False,\n",
       "                                 decode_error='strict',\n",
       "                                 dtype=<class 'numpy.int64'>, encoding='utf-8',\n",
       "                                 input='content', lowercase=True, max_df=1.0,\n",
       "                                 max_features=None, min_df=1,\n",
       "                                 ngram_range=(1, 1), preprocessor=None,\n",
       "                                 stop_words=None, strip_accents=None,\n",
       "                                 token_pattern='(?u)\\\\b\\\\w\\\\w+\\\\b',\n",
       "                                 tokenizer=None, vocabulary=Non...\n",
       "                                  sublinear_tf=False, use_idf=True)),\n",
       "                ('scl',\n",
       "                 StandardScaler(copy=True, with_mean=False, with_std=True)),\n",
       "                ('log',\n",
       "                 LogisticRegression(C=1.0, class_weight=None, dual=False,\n",
       "                                    fit_intercept=True, intercept_scaling=1,\n",
       "                                    l1_ratio=None, max_iter=100,\n",
       "                                    multi_class='auto', n_jobs=None,\n",
       "                                    penalty='l2', random_state=None,\n",
       "                                    solver='lbfgs', tol=0.0001, verbose=0,\n",
       "                                    warm_start=False))],\n",
       "         verbose=False)"
      ]
     },
     "execution_count": 253,
     "metadata": {},
     "output_type": "execute_result"
    }
   ],
   "source": [
    "#logistic regression\n",
    "log_model = Pipeline([\n",
    "    ('vect', CountVectorizer()),\n",
    "    ('tfidf', TfidfTransformer()),\n",
    "    ('scl', StandardScaler(with_mean=False)),\n",
    "    ('log', LogisticRegression()),\n",
    "])\n",
    "\n",
    "log_model.fit(x_train, y_train)"
   ]
  },
  {
   "cell_type": "code",
   "execution_count": 254,
   "metadata": {},
   "outputs": [
    {
     "name": "stdout",
     "output_type": "stream",
     "text": [
      "              precision    recall  f1-score   support\n",
      "\n",
      "           0       0.73      0.66      0.69       136\n",
      "           1       0.63      0.71      0.67       112\n",
      "\n",
      "    accuracy                           0.68       248\n",
      "   macro avg       0.68      0.68      0.68       248\n",
      "weighted avg       0.69      0.68      0.68       248\n",
      "\n"
     ]
    }
   ],
   "source": [
    "log_model_predictions = log_model.predict(x_test)\n",
    "print(classification_report(y_test, log_model_predictions))"
   ]
  },
  {
   "cell_type": "code",
   "execution_count": 229,
   "metadata": {},
   "outputs": [
    {
     "data": {
      "text/plain": [
       "0.9410745233968805"
      ]
     },
     "execution_count": 229,
     "metadata": {},
     "output_type": "execute_result"
    }
   ],
   "source": [
    "# AdaBoost\n",
    "ada_model = Pipeline([\n",
    "    ('vect', CountVectorizer()),\n",
    "    ('tfidf', TfidfTransformer()),\n",
    "    ('log', AdaBoostClassifier()),\n",
    "])\n",
    "ada_model.fit(x_train, y_train)\n",
    "ada_model.score(x_train, y_train)"
   ]
  },
  {
   "cell_type": "code",
   "execution_count": 230,
   "metadata": {},
   "outputs": [
    {
     "name": "stdout",
     "output_type": "stream",
     "text": [
      "              precision    recall  f1-score   support\n",
      "\n",
      "           0       0.68      0.73      0.71       127\n",
      "           1       0.70      0.64      0.67       121\n",
      "\n",
      "    accuracy                           0.69       248\n",
      "   macro avg       0.69      0.69      0.69       248\n",
      "weighted avg       0.69      0.69      0.69       248\n",
      "\n"
     ]
    }
   ],
   "source": [
    "ada_model_predictions = ada_model.predict(x_test)\n",
    "print(classification_report(y_test, ada_model_predictions))"
   ]
  },
  {
   "cell_type": "markdown",
   "metadata": {},
   "source": [
    "***(You can see that you don't get amazing results for the entire dataset (all years). Your predictions are going to be right 70-75% of the time)***"
   ]
  },
  {
   "cell_type": "markdown",
   "metadata": {},
   "source": [
    "#### Post 1993 documents:\n",
    "\n",
    "1993 is when the modern minutes of the FOMC developed, and they began to become more transparent about planning with the public. You can see that the predictive power of the model greatly improves"
   ]
  },
  {
   "cell_type": "code",
   "execution_count": null,
   "metadata": {
    "scrolled": true
   },
   "outputs": [],
   "source": [
    "merged_1993_df=merged_df[merged_df['datetime_min'] > '1993-01-01']\n",
    "#merged_1993_df.sort_values(by=['datetime_min']).head(3)"
   ]
  },
  {
   "cell_type": "code",
   "execution_count": 403,
   "metadata": {
    "scrolled": false
   },
   "outputs": [
    {
     "data": {
      "text/html": [
       "<div>\n",
       "<style scoped>\n",
       "    .dataframe tbody tr th:only-of-type {\n",
       "        vertical-align: middle;\n",
       "    }\n",
       "\n",
       "    .dataframe tbody tr th {\n",
       "        vertical-align: top;\n",
       "    }\n",
       "\n",
       "    .dataframe thead th {\n",
       "        text-align: right;\n",
       "    }\n",
       "</style>\n",
       "<table border=\"1\" class=\"dataframe\">\n",
       "  <thead>\n",
       "    <tr style=\"text-align: right;\">\n",
       "      <th></th>\n",
       "      <th>date</th>\n",
       "      <th>filename</th>\n",
       "      <th>raw_text</th>\n",
       "      <th>preprocessed</th>\n",
       "      <th>datetime_min</th>\n",
       "      <th>next_month</th>\n",
       "      <th>DATE</th>\n",
       "      <th>FEDFUNDS</th>\n",
       "      <th>datetime_fed</th>\n",
       "      <th>change</th>\n",
       "      <th>change_cat</th>\n",
       "      <th>change_binary</th>\n",
       "      <th>change_1</th>\n",
       "      <th>change_binary_1</th>\n",
       "    </tr>\n",
       "  </thead>\n",
       "  <tbody>\n",
       "    <tr>\n",
       "      <th>1</th>\n",
       "      <td>20090603</td>\n",
       "      <td>fomcminutes20090603.txt</td>\n",
       "      <td>Minutes of the Federal Open Market Committee \\...</td>\n",
       "      <td>minut feder open market committe june 2009 joi...</td>\n",
       "      <td>2009-06-03</td>\n",
       "      <td>2009-07-01</td>\n",
       "      <td>2009-07-01</td>\n",
       "      <td>0.16</td>\n",
       "      <td>2009-07-01</td>\n",
       "      <td>-0.05</td>\n",
       "      <td>0</td>\n",
       "      <td>0</td>\n",
       "      <td>-0.05</td>\n",
       "      <td>0</td>\n",
       "    </tr>\n",
       "    <tr>\n",
       "      <th>2</th>\n",
       "      <td>20090624</td>\n",
       "      <td>fomcminutes20090624.txt</td>\n",
       "      <td>Minutes of the Federal Open Market Committee \\...</td>\n",
       "      <td>minut feder open market committe june 2009 joi...</td>\n",
       "      <td>2009-06-24</td>\n",
       "      <td>2009-07-01</td>\n",
       "      <td>2009-07-01</td>\n",
       "      <td>0.16</td>\n",
       "      <td>2009-07-01</td>\n",
       "      <td>-0.05</td>\n",
       "      <td>0</td>\n",
       "      <td>0</td>\n",
       "      <td>0.34</td>\n",
       "      <td>1</td>\n",
       "    </tr>\n",
       "  </tbody>\n",
       "</table>\n",
       "</div>"
      ],
      "text/plain": [
       "       date                 filename  \\\n",
       "1  20090603  fomcminutes20090603.txt   \n",
       "2  20090624  fomcminutes20090624.txt   \n",
       "\n",
       "                                            raw_text  \\\n",
       "1  Minutes of the Federal Open Market Committee \\...   \n",
       "2  Minutes of the Federal Open Market Committee \\...   \n",
       "\n",
       "                                        preprocessed datetime_min next_month  \\\n",
       "1  minut feder open market committe june 2009 joi...   2009-06-03 2009-07-01   \n",
       "2  minut feder open market committe june 2009 joi...   2009-06-24 2009-07-01   \n",
       "\n",
       "         DATE  FEDFUNDS datetime_fed  change  change_cat  change_binary  \\\n",
       "1  2009-07-01      0.16   2009-07-01   -0.05           0              0   \n",
       "2  2009-07-01      0.16   2009-07-01   -0.05           0              0   \n",
       "\n",
       "   change_1  change_binary_1  \n",
       "1     -0.05                0  \n",
       "2      0.34                1  "
      ]
     },
     "execution_count": 403,
     "metadata": {},
     "output_type": "execute_result"
    }
   ],
   "source": [
    "merged_1993_df.change_binary_1.value_counts()\n",
    "merged_1993_df.head(2)"
   ]
  },
  {
   "cell_type": "code",
   "execution_count": 327,
   "metadata": {},
   "outputs": [
    {
     "name": "stdout",
     "output_type": "stream",
     "text": [
      "              precision    recall  f1-score   support\n",
      "\n",
      "           0       0.93      0.97      0.95        58\n",
      "           1       0.89      0.80      0.84        20\n",
      "\n",
      "    accuracy                           0.92        78\n",
      "   macro avg       0.91      0.88      0.90        78\n",
      "weighted avg       0.92      0.92      0.92        78\n",
      "\n"
     ]
    }
   ],
   "source": [
    "x_train1993, x_test1993, y_train1993, y_test1993 = tts(merged_1993_df['preprocessed'], merged_1993_df['change_binary'], test_size=0.3)\n",
    "\n",
    "rfc_model = Pipeline([\n",
    "    ('vect', CountVectorizer()),\n",
    "    ('tfidf', TfidfTransformer()),\n",
    "    ('clf', RandomForestClassifier(n_estimators=75, min_samples_leaf=4, max_depth=12)),\n",
    "])\n",
    "\n",
    "rfc_model.fit(x_train1993, y_train1993)\n",
    "rfc_model_predictions = model.predict(x_test1993)\n",
    "print(classification_report(y_test1993, rfc_model_predictions))\n"
   ]
  },
  {
   "cell_type": "code",
   "execution_count": 330,
   "metadata": {},
   "outputs": [
    {
     "name": "stdout",
     "output_type": "stream",
     "text": [
      "[0.66408269 0.62857143 0.52971576 0.55681818 0.38095238 0.62857143\n",
      " 0.52971576 0.52971576 0.4047619  0.70862471] 0.556153000746024\n"
     ]
    }
   ],
   "source": [
    "#why is this so low?\n",
    "score=cross_val_score(rfc_model, merged_1993_df['preprocessed'], merged_1993_df['change_binary'], cv=10, scoring='f1_macro')\n",
    "print(score, score.mean())"
   ]
  },
  {
   "cell_type": "markdown",
   "metadata": {},
   "source": [
    "***Now looking one period into the future:***"
   ]
  },
  {
   "cell_type": "code",
   "execution_count": 312,
   "metadata": {
    "scrolled": false
   },
   "outputs": [
    {
     "name": "stdout",
     "output_type": "stream",
     "text": [
      "0.9166666666666666\n",
      "              precision    recall  f1-score   support\n",
      "\n",
      "           0       0.67      0.88      0.76        48\n",
      "           1       0.60      0.30      0.40        30\n",
      "\n",
      "    accuracy                           0.65        78\n",
      "   macro avg       0.63      0.59      0.58        78\n",
      "weighted avg       0.64      0.65      0.62        78\n",
      "\n"
     ]
    }
   ],
   "source": [
    "x_train1993, x_test1993, y_train1993, y_test1993 = tts(merged_1993_df['preprocessed'], merged_1993_df['change_binary_1'], test_size=0.3)\n",
    "\n",
    "rfc_model = Pipeline([\n",
    "    ('vect', CountVectorizer()),\n",
    "    ('tfidf', TfidfTransformer()),\n",
    "    ('clf', RandomForestClassifier(n_estimators=150, min_samples_leaf=12, max_depth=12)),\n",
    "])\n",
    "\n",
    "rfc_model.fit(x_train1993, y_train1993)\n",
    "rfc_model_predictions = model.predict(x_test1993)\n",
    "print(rfc_model.score(x_train1993,y_train1993))\n",
    "print(classification_report(y_test1993, rfc_model_predictions))"
   ]
  },
  {
   "cell_type": "markdown",
   "metadata": {},
   "source": [
    "Trying to predict the rate changes one month out is more difficult. For comparison, FFR futures have about a 75% accuracy rate"
   ]
  },
  {
   "cell_type": "markdown",
   "metadata": {},
   "source": [
    "**Trying regression, rather than classification:**"
   ]
  },
  {
   "cell_type": "code",
   "execution_count": 282,
   "metadata": {},
   "outputs": [
    {
     "name": "stdout",
     "output_type": "stream",
     "text": [
      "0.603802449384434\n",
      "0.47472169127071673\n"
     ]
    }
   ],
   "source": [
    "x_train1993, x_test1993, y_train1993, y_test1993 = tts(merged_1993_df['preprocessed'], merged_1993_df['change'], test_size=0.3)\n",
    "\n",
    "rfc_model = Pipeline([\n",
    "    ('vect', CountVectorizer()),\n",
    "    ('tfidf', TfidfTransformer()),\n",
    "    ('clf', RandomForestRegressor(n_estimators=200, min_samples_leaf=10, max_depth=12)),\n",
    "])\n",
    "\n",
    "rfc_model.fit(x_train1993, y_train1993)\n",
    "#rfc_model_predictions = model.predict(x_test1993)\n",
    "print(rfc_model.score(x_train1993, y_train1993))\n",
    "print(rfc_model.score(x_test1993, y_test1993))\n"
   ]
  },
  {
   "cell_type": "code",
   "execution_count": 332,
   "metadata": {},
   "outputs": [
    {
     "data": {
      "text/plain": [
       " 0    184\n",
       "-1     39\n",
       " 1     35\n",
       "Name: change_cat, dtype: int64"
      ]
     },
     "execution_count": 332,
     "metadata": {},
     "output_type": "execute_result"
    }
   ],
   "source": [
    "#category balance, it's a bit unbalanced:\n",
    "merged_1993_df['change_cat'].value_counts()"
   ]
  },
  {
   "cell_type": "markdown",
   "metadata": {},
   "source": [
    "#### Now trying to predict multiple classes:\n"
   ]
  },
  {
   "cell_type": "code",
   "execution_count": 331,
   "metadata": {},
   "outputs": [
    {
     "name": "stdout",
     "output_type": "stream",
     "text": [
      "              precision    recall  f1-score   support\n",
      "\n",
      "          -1       0.00      0.00      0.00        16\n",
      "           0       0.85      0.98      0.91        47\n",
      "           1       0.50      0.80      0.62        15\n",
      "\n",
      "    accuracy                           0.74        78\n",
      "   macro avg       0.45      0.59      0.51        78\n",
      "weighted avg       0.61      0.74      0.67        78\n",
      "\n"
     ]
    },
    {
     "name": "stderr",
     "output_type": "stream",
     "text": [
      "/Users/jamesmoss/opt/anaconda3/lib/python3.7/site-packages/sklearn/metrics/_classification.py:1272: UndefinedMetricWarning: Precision and F-score are ill-defined and being set to 0.0 in labels with no predicted samples. Use `zero_division` parameter to control this behavior.\n",
      "  _warn_prf(average, modifier, msg_start, len(result))\n"
     ]
    }
   ],
   "source": [
    "#not sure why I couldn't get this to work\n",
    "x_train1993, x_test1993, y_train1993, y_test1993 = tts(merged_1993_df['preprocessed'], merged_1993_df['change_cat'], test_size=0.3)\n",
    "\n",
    "rfc_model = Pipeline([\n",
    "    ('vect', CountVectorizer()),\n",
    "    ('tfidf', TfidfTransformer()),\n",
    "    ('clf', RandomForestClassifier(n_estimators=75, min_samples_leaf=4, max_depth=12)),\n",
    "])\n",
    "\n",
    "rfc_model.fit(x_train1993, y_train1993)\n",
    "rfc_model_predictions = model.predict(x_test1993)\n",
    "print(classification_report(y_test1993, rfc_model_predictions))"
   ]
  },
  {
   "cell_type": "code",
   "execution_count": 334,
   "metadata": {},
   "outputs": [
    {
     "name": "stdout",
     "output_type": "stream",
     "text": [
      "(array([0, 1]), array([54, 24]))\n"
     ]
    }
   ],
   "source": [
    "print(np.unique(rfc_model_predictions, return_counts=True))"
   ]
  },
  {
   "cell_type": "markdown",
   "metadata": {},
   "source": [
    "## Future Work:\n",
    "\n",
    "***Trying a LSTM to incorperate the time series aspects of the data***\n",
    "\n",
    "***Integrate other leading economic variables into analysis***"
   ]
  },
  {
   "cell_type": "code",
   "execution_count": 9,
   "metadata": {},
   "outputs": [],
   "source": [
    "# First, embed the text using GloVe, with pretrained vectors\n",
    "embeddings_dict = {}\n",
    "with open(\"/Users/jamesmoss/Downloads/glove.6B/glove.6B.50d.txt\", 'r') as f:\n",
    "    for line in f:\n",
    "        values = line.split()\n",
    "        word = values[0]\n",
    "        vector = np.asarray(values[1:], \"float32\")\n",
    "        embeddings_dict[word] = vector"
   ]
  },
  {
   "cell_type": "code",
   "execution_count": 1,
   "metadata": {},
   "outputs": [],
   "source": [
    "# adoc=[s.string.strip() for s in  merged_df.tokenized[0].sents]\n",
    "# [s for s in adoc if str(s).strip()]\n",
    "# merged_df.tokenized[0]"
   ]
  },
  {
   "cell_type": "code",
   "execution_count": null,
   "metadata": {},
   "outputs": [],
   "source": [
    "#TODO: representing the documents with a CNN\n",
    "\n",
    "model=Sequential()\n",
    "\n",
    "#first hidden layer\n",
    "model.add(Conv2D(32,(3,3), input_shape=input_shape))\n",
    "model.add(Activation('relu'))\n",
    "model.add(MaxPooling2D(pool_size=(2,2)))\n",
    "#the above are part of the same layer\n",
    "#stride is 1 by default\n"
   ]
  },
  {
   "cell_type": "markdown",
   "metadata": {},
   "source": [
    "Also planning on using BERT to embed the sentences, use a CNN to embed the documents, then a RNN for the classification"
   ]
  },
  {
   "cell_type": "code",
   "execution_count": null,
   "metadata": {},
   "outputs": [],
   "source": [
    "# for future reference:\n",
    "#list of minutes link (1993 onward):\n",
    "# https://www.fedsearch.org/fomc-docs/search?advanced_search=true&fomc_document_type=minutes&text=&search_precision=All+Words&from_month=3&from_year=1936&to_month=12&to_year=2020&sort=Most+Recent+First&Search=Search\n",
    "#get futures data from the table here:\n",
    "#https://www.quandl.com/data/CHRIS/CME_FF1-30-Day-Federal-Funds-Futures-Continuous-Contract-1-FF1-Front-Month"
   ]
  }
 ],
 "metadata": {
  "kernelspec": {
   "display_name": "Python 3",
   "language": "python",
   "name": "python3"
  },
  "language_info": {
   "codemirror_mode": {
    "name": "ipython",
    "version": 3
   },
   "file_extension": ".py",
   "mimetype": "text/x-python",
   "name": "python",
   "nbconvert_exporter": "python",
   "pygments_lexer": "ipython3",
   "version": "3.7.6"
  }
 },
 "nbformat": 4,
 "nbformat_minor": 4
}
